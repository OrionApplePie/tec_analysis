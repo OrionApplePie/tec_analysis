{
 "cells": [
  {
   "cell_type": "code",
   "execution_count": 1,
   "metadata": {},
   "outputs": [],
   "source": [
    "import errno\n",
    "import os\n",
    "from pathlib import Path\n",
    "\n",
    "import pandas as pd\n",
    "from ipyfilechooser import FileChooser"
   ]
  },
  {
   "cell_type": "markdown",
   "metadata": {},
   "source": [
    "Константы с параметрами и заголовками"
   ]
  },
  {
   "cell_type": "code",
   "execution_count": 2,
   "metadata": {},
   "outputs": [],
   "source": [
    "# Параметры из файлов с данными которые нужны\n",
    "NEEDED_PARAMETERS = (\n",
    "    \"hmax\",\n",
    "    \"FiltWindow\",\n",
    "    \"Time Range\",\n",
    "    \"Minimum duration of series\",\n",
    "    \"time step\"\n",
    ")\n",
    "# Заголовки колонок данных в текстовом файле\n",
    "DATA_HEADERS = (\n",
    "    \"tsn\", \"time\", \"el\", \"az\",\n",
    "    \"latp\", \"lonp\", \"tec\",\n",
    "    \"tec_filtered\", \"validity\"\n",
    ")"
   ]
  },
  {
   "cell_type": "code",
   "execution_count": 3,
   "metadata": {},
   "outputs": [],
   "source": [
    "def get_params_datafile(filename=\"\"):\n",
    "    \"\"\"Функция для сбора параметров из файла .dat\n",
    "    из строк в начале файла начинающихся с символа #.\n",
    "    Возвращает словарь.\n",
    "    \"\"\"\n",
    "    if not filename:\n",
    "        raise ValueError(\"Filename is needed.\")\n",
    "\n",
    "    if not os.path.isfile(filename):\n",
    "        raise FileNotFoundError(\n",
    "            errno.ENOENT,\n",
    "            os.strerror(errno.ENOENT),\n",
    "            filename\n",
    "        )\n",
    "\n",
    "    params = []\n",
    "\n",
    "    with open(filename, 'r') as tec_file:\n",
    "        for line in tec_file.readlines():\n",
    "            if line.strip().startswith(\"#\"):  # это параметр\n",
    "                param = line.strip()[1:]\n",
    "                param = param.split(\"=\")\n",
    "                if len(param) != 2:  # заголовки пропускаем\n",
    "                    continue\n",
    "                param = tuple(el.strip() for el in param)\n",
    "                params.append(param)\n",
    "    \n",
    "    params = dict(params)\n",
    "\n",
    "    # оставляем только нужные параметры\n",
    "    return {\n",
    "        key: params[key]\n",
    "        for key\n",
    "        in NEEDED_PARAMETERS\n",
    "    }"
   ]
  },
  {
   "cell_type": "code",
   "execution_count": 4,
   "metadata": {},
   "outputs": [],
   "source": [
    "def get_dataframe_datafile(filename=\"\"):\n",
    "    \"\"\"Возвращает датафрейм с данными из текстового файла TEC.\n",
    "    Заголовки задаются в константе.\"\"\"\n",
    "    return pd.read_csv(\n",
    "        filepath_or_buffer=filename,\n",
    "        delim_whitespace=True,  # разделитель - пробел(ы)\n",
    "        comment=\"#\",  # пропускаем комменты\n",
    "        names=DATA_HEADERS, # задание заголовков из списка\n",
    "    )"
   ]
  },
  {
   "cell_type": "code",
   "execution_count": 5,
   "metadata": {
    "scrolled": false
   },
   "outputs": [
    {
     "data": {
      "application/vnd.jupyter.widget-view+json": {
       "model_id": "e87d66e413c245079a3270dd5a8b2cf3",
       "version_major": 2,
       "version_minor": 0
      },
      "text/plain": [
       "FileChooser(path='.', filename='', title='HTML(value='', layout=Layout(display='none'))', show_hidden='False',…"
      ]
     },
     "metadata": {},
     "output_type": "display_data"
    }
   ],
   "source": [
    "# Create and display a FileChooser widget\n",
    "fc = FileChooser('.')\n",
    "display(fc)\n",
    "\n",
    "# Change defaults and reset the dialog\n",
    "fc.default_path = '.'\n",
    "fc.reset()\n",
    "\n",
    "# Change hidden files\n",
    "fc.show_hidden = False\n",
    "\n",
    "# Show or hide folder icons\n",
    "fc.use_dir_icons = True\n",
    "\n",
    "# Set multiple file filter patterns (uses https://docs.python.org/3/library/fnmatch.html)\n",
    "fc.filter_pattern = ['*.dat', '*.txt']\n",
    "\n",
    "# Change the title (use '' to hide)\n",
    "fc.title = '<b>Выберите файл с данными</b>'\n",
    "\n",
    "# Sample callback function\n",
    "# def change_title(chooser):\n",
    "#     chooser.title = '<b>Callback function executed</b>'\n",
    "\n",
    "# Register callback function\n",
    "# fc.register_callback(change_title)"
   ]
  },
  {
   "cell_type": "code",
   "execution_count": 6,
   "metadata": {},
   "outputs": [
    {
     "name": "stdout",
     "output_type": "stream",
     "text": [
      "/home/alex/Yandex.Disk/Аспирантура/my research/TEST_TEC_DATA/165/G20/0784G20_165.dat\n"
     ]
    }
   ],
   "source": [
    "# Print the selected path, filename, or both\n",
    "print(fc.selected)"
   ]
  },
  {
   "cell_type": "code",
   "execution_count": 7,
   "metadata": {},
   "outputs": [],
   "source": [
    "params = get_params_datafile(fc.selected)"
   ]
  },
  {
   "cell_type": "code",
   "execution_count": 8,
   "metadata": {},
   "outputs": [
    {
     "data": {
      "text/plain": [
       "{'hmax': '280',\n",
       " 'FiltWindow': '60 :    300 seconds',\n",
       " 'Time Range': '0.000 : 24.000',\n",
       " 'Minimum duration of series': '10 minutes',\n",
       " 'time step': '30'}"
      ]
     },
     "execution_count": 8,
     "metadata": {},
     "output_type": "execute_result"
    }
   ],
   "source": [
    "params"
   ]
  },
  {
   "cell_type": "code",
   "execution_count": 9,
   "metadata": {},
   "outputs": [],
   "source": [
    "dataframe = get_dataframe_datafile(fc.selected)"
   ]
  },
  {
   "cell_type": "code",
   "execution_count": 10,
   "metadata": {},
   "outputs": [
    {
     "name": "stdout",
     "output_type": "stream",
     "text": [
      "      tsn     time       el         az     latp      lonp      tec  \\\n",
      "0     742   6.1833  5.21797  327.99963  53.6490  133.5793  0.96338   \n",
      "1     743   6.1917  5.30081  327.83783  53.5822  133.5993  0.94244   \n",
      "2     744   6.2000  5.38572  327.66992  53.5138  133.6192  0.94316   \n",
      "3     745   6.2083  5.46982  327.50143  53.4462  133.6385  0.95623   \n",
      "4     746   6.2167  5.55313  327.33237  53.3793  133.6571  0.98924   \n",
      "..    ...      ...      ...        ...      ...       ...      ...   \n",
      "863  2365  19.7083  5.73366   68.33283  46.9954  160.7991  6.43478   \n",
      "864  2366  19.7167  5.56436   68.44447  46.9927  160.9731  6.43179   \n",
      "865  2367  19.7250  5.39527   68.55634  46.9895  161.1490  6.50324   \n",
      "866  2368  19.7333  5.22639   68.66845  46.9857  161.3269  6.48561   \n",
      "867  2369  19.7417  5.05772   68.78078  46.9813  161.5066  6.50773   \n",
      "\n",
      "     tec_filtered  validity  \n",
      "0         0.00000         3  \n",
      "1        -0.00217         0  \n",
      "2        -0.00473         0  \n",
      "3        -0.00354         0  \n",
      "4         0.01173         0  \n",
      "..            ...       ...  \n",
      "863      -0.00443         0  \n",
      "864      -0.00950         0  \n",
      "865       0.00921         0  \n",
      "866      -0.00397         0  \n",
      "867       0.00000         3  \n",
      "\n",
      "[868 rows x 9 columns]\n"
     ]
    }
   ],
   "source": [
    "print(dataframe)\n"
   ]
  },
  {
   "cell_type": "code",
   "execution_count": null,
   "metadata": {},
   "outputs": [],
   "source": []
  },
  {
   "cell_type": "code",
   "execution_count": null,
   "metadata": {},
   "outputs": [],
   "source": []
  },
  {
   "cell_type": "code",
   "execution_count": null,
   "metadata": {},
   "outputs": [],
   "source": []
  }
 ],
 "metadata": {
  "kernelspec": {
   "display_name": "Python 3",
   "language": "python",
   "name": "python3"
  },
  "language_info": {
   "codemirror_mode": {
    "name": "ipython",
    "version": 3
   },
   "file_extension": ".py",
   "mimetype": "text/x-python",
   "name": "python",
   "nbconvert_exporter": "python",
   "pygments_lexer": "ipython3",
   "version": "3.8.5"
  }
 },
 "nbformat": 4,
 "nbformat_minor": 4
}
