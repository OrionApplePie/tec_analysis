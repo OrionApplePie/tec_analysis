{
 "cells": [
  {
   "cell_type": "code",
   "execution_count": 104,
   "metadata": {},
   "outputs": [],
   "source": [
    "import errno\n",
    "import os\n",
    "from pathlib import Path\n",
    "from datetime import datetime, date, timedelta\n",
    "\n",
    "import pandas as pd\n",
    "from ipyfilechooser import FileChooser\n",
    "# import matplotlib.pyplot as plt"
   ]
  },
  {
   "cell_type": "markdown",
   "metadata": {},
   "source": [
    "Константы с параметрами и заголовками"
   ]
  },
  {
   "cell_type": "code",
   "execution_count": 195,
   "metadata": {},
   "outputs": [],
   "source": [
    "# Параметры из файлов с данными которые нужны\n",
    "NEEDED_PARAMETERS = (\n",
    "    \"hmax\",\n",
    "    \"FiltWindow\",\n",
    "    \"Time Range\",\n",
    "    \"Minimum duration of series\",\n",
    "    \"time step\"\n",
    ")\n",
    "# Заголовки колонок данных в текстовом файле\n",
    "DATA_HEADERS = (\n",
    "    \"tsn\", \"time\", \"el\", \"az\",\n",
    "    \"latp\", \"lonp\", \"tec\",\n",
    "    \"tec_filtered\", \"validity\"\n",
    ")\n",
    "# Временной интервал для отрисовки графика\n",
    "TIME_START = 18.30\n",
    "TIME_END = 21.00"
   ]
  },
  {
   "cell_type": "code",
   "execution_count": 196,
   "metadata": {},
   "outputs": [],
   "source": [
    "def get_date_by_number(year=None, day_number=1):\n",
    "    \"\"\"Вычисление даты в заданном году по номеру дня.\"\"\"\n",
    "    if year is None or year < 1970 or day_number <= 0:\n",
    "        raise ValueError(\"Enter correct year/day number.\")\n",
    "    return date(year, 1, 1) + timedelta(days=day_number-1)"
   ]
  },
  {
   "cell_type": "code",
   "execution_count": 197,
   "metadata": {},
   "outputs": [],
   "source": [
    "def get_day_number(year=1970, month=1, day=1, dt_format=None):\n",
    "    \"\"\"Вычисление номера дня в году по дате.\"\"\"\n",
    "    if dt_format:\n",
    "        return dt_format.timetuple().tm_yday\n",
    "    return date(year, month, day).timetuple().tm_yday"
   ]
  },
  {
   "cell_type": "code",
   "execution_count": 198,
   "metadata": {},
   "outputs": [],
   "source": [
    "def parse_filename(filename=\"\"):\n",
    "    \"\"\"Парсинг имени файла на: stk2G20_165.dat\n",
    "       stk2 - имя пункта гнсс (4 символа),\n",
    "       G20 - тип и номер спутника (3 символа),\n",
    "       165 - номер дня в году\"\"\"\n",
    "    # TODO: добавить обработку ошибок\n",
    "    name, _ = os.path.basename(filename).split(\".\")\n",
    "    name_part, day_number = name.split(\"_\")\n",
    "    return {\n",
    "        \"day_number\": day_number,\n",
    "        \"receiver_name\": name_part[:4],  # TODO: уточнить англ. термин\n",
    "        \"sat_name\": name_part[4:7],\n",
    "    }"
   ]
  },
  {
   "cell_type": "code",
   "execution_count": 199,
   "metadata": {},
   "outputs": [],
   "source": [
    "def get_params_datafile(filename=\"\"):\n",
    "    \"\"\"Функция для сбора параметров из файла .dat\n",
    "    из строк в начале файла начинающихся с символа #.\n",
    "    Возвращает словарь.\n",
    "    \"\"\"\n",
    "    if not filename:\n",
    "        raise ValueError(\"Filename is needed.\")\n",
    "\n",
    "    if not os.path.isfile(filename):\n",
    "        raise FileNotFoundError(\n",
    "            errno.ENOENT,\n",
    "            os.strerror(errno.ENOENT),\n",
    "            filename\n",
    "        )\n",
    "\n",
    "    params = []\n",
    "\n",
    "    with open(filename, 'r') as tec_file:\n",
    "        for line in tec_file.readlines():\n",
    "            if line.strip().startswith(\"#\"):  # это параметр\n",
    "                param = line.strip()[1:]\n",
    "                param = param.split(\"=\")\n",
    "                if len(param) != 2:  # заголовки пропускаем\n",
    "                    continue\n",
    "                param = tuple(el.strip() for el in param)\n",
    "                params.append(param)\n",
    "    \n",
    "    params = dict(params)\n",
    "\n",
    "    # оставляем только нужные параметры\n",
    "    return {\n",
    "        key: params[key]\n",
    "        for key\n",
    "        in NEEDED_PARAMETERS\n",
    "    }"
   ]
  },
  {
   "cell_type": "code",
   "execution_count": 200,
   "metadata": {},
   "outputs": [],
   "source": [
    "def get_dataframe_datafile(filename=\"\"):\n",
    "    \"\"\"Возвращает датафрейм с данными из текстового файла TEC.\n",
    "    Заголовки задаются в константе.\"\"\"\n",
    "    return pd.read_csv(\n",
    "        filepath_or_buffer=filename,\n",
    "        delim_whitespace=True,  # разделитель - пробел(ы)\n",
    "        comment=\"#\",  # пропускаем комменты\n",
    "        names=DATA_HEADERS, # задание заголовков из списка\n",
    "    )"
   ]
  },
  {
   "cell_type": "code",
   "execution_count": 201,
   "metadata": {
    "scrolled": false
   },
   "outputs": [
    {
     "data": {
      "application/vnd.jupyter.widget-view+json": {
       "model_id": "b552d8638fb34d6eaef3c22fc4d9a407",
       "version_major": 2,
       "version_minor": 0
      },
      "text/plain": [
       "FileChooser(path='.', filename='', title='HTML(value='', layout=Layout(display='none'))', show_hidden='False',…"
      ]
     },
     "metadata": {},
     "output_type": "display_data"
    }
   ],
   "source": [
    "# Create and display a FileChooser widget\n",
    "fc = FileChooser('.')\n",
    "display(fc)\n",
    "\n",
    "# Change defaults and reset the dialog\n",
    "fc.default_path = '.'\n",
    "fc.reset()\n",
    "\n",
    "# Change hidden files\n",
    "fc.show_hidden = False\n",
    "\n",
    "# Show or hide folder icons\n",
    "fc.use_dir_icons = True\n",
    "\n",
    "# Set multiple file filter patterns (uses https://docs.python.org/3/library/fnmatch.html)\n",
    "fc.filter_pattern = ['*.dat', '*.txt']\n",
    "\n",
    "# Change the title (use '' to hide)\n",
    "fc.title = '<b>Выберите файл с данными</b>'\n",
    "\n",
    "# Sample callback function\n",
    "# def change_title(chooser):\n",
    "#     chooser.title = '<b>Callback function executed</b>'\n",
    "\n",
    "# Register callback function\n",
    "# fc.register_callback(change_title)"
   ]
  },
  {
   "cell_type": "code",
   "execution_count": 203,
   "metadata": {},
   "outputs": [
    {
     "name": "stdout",
     "output_type": "stream",
     "text": [
      "C:\\Users\\Alex\\YandexDisk\\Аспирантура\\my research\\TEST_TEC_DATA\\165\\G20\\stk2G20_165.dat\n"
     ]
    }
   ],
   "source": [
    "# Print the selected path, filename, or both\n",
    "print(fc.selected)"
   ]
  },
  {
   "cell_type": "code",
   "execution_count": 204,
   "metadata": {},
   "outputs": [],
   "source": [
    "file_info = parse_filename(fc.selected)\n",
    "anchored_text_label = f\"{file_info['day_number']} {file_info['receiver_name']} {file_info['sat_name']}\""
   ]
  },
  {
   "cell_type": "code",
   "execution_count": 205,
   "metadata": {},
   "outputs": [],
   "source": [
    "params = get_params_datafile(fc.selected)"
   ]
  },
  {
   "cell_type": "code",
   "execution_count": 206,
   "metadata": {},
   "outputs": [
    {
     "data": {
      "text/plain": [
       "{'hmax': '280',\n",
       " 'FiltWindow': '60 :    300 seconds',\n",
       " 'Time Range': '0.000 : 24.000',\n",
       " 'Minimum duration of series': '10 minutes',\n",
       " 'time step': '30'}"
      ]
     },
     "execution_count": 206,
     "metadata": {},
     "output_type": "execute_result"
    }
   ],
   "source": [
    "params"
   ]
  },
  {
   "cell_type": "code",
   "execution_count": 207,
   "metadata": {},
   "outputs": [],
   "source": [
    "dataframe = get_dataframe_datafile(fc.selected)"
   ]
  },
  {
   "cell_type": "code",
   "execution_count": 208,
   "metadata": {},
   "outputs": [],
   "source": [
    "dataframe = dataframe[(dataframe[\"time\"] >= TIME_START) & (dataframe[\"time\"] <= TIME_END)]  # отбор интервала времени"
   ]
  },
  {
   "cell_type": "code",
   "execution_count": 209,
   "metadata": {},
   "outputs": [
    {
     "name": "stdout",
     "output_type": "stream",
     "text": [
      "      tsn     time        el        az     latp      lonp      tec  \\\n",
      "724  2196  18.3000  35.76342  53.92060  45.3689  145.5551  1.12246   \n",
      "725  2197  18.3083  35.55490  53.94626  45.3804  145.5837  1.15556   \n",
      "726  2198  18.3167  35.34657  53.97284  45.3919  145.6125  1.13156   \n",
      "727  2199  18.3250  35.13845  54.00032  45.4035  145.6416  1.14250   \n",
      "728  2200  18.3333  34.93052  54.02871  45.4151  145.6710  1.20535   \n",
      "..    ...      ...       ...       ...      ...       ...      ...   \n",
      "870  2342  19.5167   7.78179  64.26305  47.2919  155.9603  6.10383   \n",
      "871  2343  19.5250   7.60772  64.36535  47.3014  156.1141  6.11463   \n",
      "872  2344  19.5333   7.43388  64.46795  47.3105  156.2699  6.16158   \n",
      "873  2345  19.5417   7.26027  64.57084  47.3193  156.4275  6.11470   \n",
      "874  2346  19.5500   7.08687  64.67403  47.3278  156.5871  6.23488   \n",
      "\n",
      "     tec_filtered  validity  \n",
      "724       0.00998         0  \n",
      "725       0.01399         0  \n",
      "726      -0.01575         0  \n",
      "727      -0.02515         0  \n",
      "728      -0.00306         0  \n",
      "..            ...       ...  \n",
      "870      -0.01057         0  \n",
      "871      -0.00828         0  \n",
      "872       0.00490         0  \n",
      "873      -0.01735         0  \n",
      "874       0.00000         0  \n",
      "\n",
      "[151 rows x 9 columns]\n"
     ]
    }
   ],
   "source": [
    "print(dataframe)"
   ]
  },
  {
   "cell_type": "code",
   "execution_count": 210,
   "metadata": {},
   "outputs": [],
   "source": [
    "%matplotlib inline"
   ]
  },
  {
   "cell_type": "code",
   "execution_count": 211,
   "metadata": {},
   "outputs": [],
   "source": [
    "import matplotlib.pyplot as plt"
   ]
  },
  {
   "cell_type": "code",
   "execution_count": 212,
   "metadata": {},
   "outputs": [],
   "source": [
    "from matplotlib.offsetbox import AnchoredText"
   ]
  },
  {
   "cell_type": "code",
   "execution_count": 213,
   "metadata": {},
   "outputs": [
    {
     "data": {
      "image/png": "[encoded data removed]",
      "text/plain": [
       "<Figure size 432x288 with 1 Axes>"
      ]
     },
     "metadata": {
      "needs_background": "light"
     },
     "output_type": "display_data"
    }
   ],
   "source": [
    "fig, axs = plt.subplots()"
   ]
  },
  {
   "cell_type": "code",
   "execution_count": 214,
   "metadata": {},
   "outputs": [
    {
     "data": {
      "text/plain": [
       "<AxesSubplot:xlabel='time'>"
      ]
     },
     "execution_count": 214,
     "metadata": {},
     "output_type": "execute_result"
    }
   ],
   "source": [
    "dataframe.plot(x=\"time\", y=\"tec_filtered\", ax=axs)"
   ]
  },
  {
   "cell_type": "code",
   "execution_count": 215,
   "metadata": {},
   "outputs": [],
   "source": [
    "at = AnchoredText(anchored_text_label, loc='upper right', prop=dict(size=12), frameon=True,)"
   ]
  },
  {
   "cell_type": "code",
   "execution_count": 216,
   "metadata": {
    "scrolled": true
   },
   "outputs": [
    {
     "data": {
      "text/plain": [
       "<matplotlib.offsetbox.AnchoredText at 0x1ac07541400>"
      ]
     },
     "execution_count": 216,
     "metadata": {},
     "output_type": "execute_result"
    }
   ],
   "source": [
    "axs.add_artist(at)"
   ]
  },
  {
   "cell_type": "code",
   "execution_count": 217,
   "metadata": {},
   "outputs": [],
   "source": [
    "# TODO: не работает показ, только сохранение, разобраться\n",
    "# plt.show()\n",
    "fig.savefig(\"fig.png\")"
   ]
  },
  {
   "cell_type": "code",
   "execution_count": 218,
   "metadata": {},
   "outputs": [],
   "source": [
    "day = get_date_by_number(year=2009, day_number=164)"
   ]
  },
  {
   "cell_type": "code",
   "execution_count": 169,
   "metadata": {},
   "outputs": [
    {
     "data": {
      "text/plain": [
       "datetime.date(2009, 6, 13)"
      ]
     },
     "execution_count": 169,
     "metadata": {},
     "output_type": "execute_result"
    }
   ],
   "source": [
    "day"
   ]
  },
  {
   "cell_type": "code",
   "execution_count": 128,
   "metadata": {},
   "outputs": [],
   "source": [
    "dnum = get_day_number(year=2009, month=6, day=14)"
   ]
  },
  {
   "cell_type": "code",
   "execution_count": 129,
   "metadata": {},
   "outputs": [
    {
     "data": {
      "text/plain": [
       "165"
      ]
     },
     "execution_count": 129,
     "metadata": {},
     "output_type": "execute_result"
    }
   ],
   "source": [
    "dnum"
   ]
  },
  {
   "cell_type": "code",
   "execution_count": null,
   "metadata": {},
   "outputs": [],
   "source": []
  }
 ],
 "metadata": {
  "kernelspec": {
   "display_name": "Python 3",
   "language": "python",
   "name": "python3"
  },
  "language_info": {
   "codemirror_mode": {
    "name": "ipython",
    "version": 3
   },
   "file_extension": ".py",
   "mimetype": "text/x-python",
   "name": "python",
   "nbconvert_exporter": "python",
   "pygments_lexer": "ipython3",
   "version": "3.8.5"
  }
 },
 "nbformat": 4,
 "nbformat_minor": 4
}
