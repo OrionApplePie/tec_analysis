{
 "cells": [
  {
   "cell_type": "code",
   "execution_count": 11,
   "metadata": {},
   "outputs": [],
   "source": [
    "import errno\n",
    "import os\n",
    "from pathlib import Path\n",
    "\n",
    "import pandas as pd\n",
    "from ipyfilechooser import FileChooser\n",
    "# import matplotlib.pyplot as plt"
   ]
  },
  {
   "cell_type": "markdown",
   "metadata": {},
   "source": [
    "Константы с параметрами и заголовками"
   ]
  },
  {
   "cell_type": "code",
   "execution_count": 2,
   "metadata": {},
   "outputs": [],
   "source": [
    "# Параметры из файлов с данными которые нужны\n",
    "NEEDED_PARAMETERS = (\n",
    "    \"hmax\",\n",
    "    \"FiltWindow\",\n",
    "    \"Time Range\",\n",
    "    \"Minimum duration of series\",\n",
    "    \"time step\"\n",
    ")\n",
    "# Заголовки колонок данных в текстовом файле\n",
    "DATA_HEADERS = (\n",
    "    \"tsn\", \"time\", \"el\", \"az\",\n",
    "    \"latp\", \"lonp\", \"tec\",\n",
    "    \"tec_filtered\", \"validity\"\n",
    ")"
   ]
  },
  {
   "cell_type": "code",
   "execution_count": 3,
   "metadata": {},
   "outputs": [],
   "source": [
    "def get_params_datafile(filename=\"\"):\n",
    "    \"\"\"Функция для сбора параметров из файла .dat\n",
    "    из строк в начале файла начинающихся с символа #.\n",
    "    Возвращает словарь.\n",
    "    \"\"\"\n",
    "    if not filename:\n",
    "        raise ValueError(\"Filename is needed.\")\n",
    "\n",
    "    if not os.path.isfile(filename):\n",
    "        raise FileNotFoundError(\n",
    "            errno.ENOENT,\n",
    "            os.strerror(errno.ENOENT),\n",
    "            filename\n",
    "        )\n",
    "\n",
    "    params = []\n",
    "\n",
    "    with open(filename, 'r') as tec_file:\n",
    "        for line in tec_file.readlines():\n",
    "            if line.strip().startswith(\"#\"):  # это параметр\n",
    "                param = line.strip()[1:]\n",
    "                param = param.split(\"=\")\n",
    "                if len(param) != 2:  # заголовки пропускаем\n",
    "                    continue\n",
    "                param = tuple(el.strip() for el in param)\n",
    "                params.append(param)\n",
    "    \n",
    "    params = dict(params)\n",
    "\n",
    "    # оставляем только нужные параметры\n",
    "    return {\n",
    "        key: params[key]\n",
    "        for key\n",
    "        in NEEDED_PARAMETERS\n",
    "    }"
   ]
  },
  {
   "cell_type": "code",
   "execution_count": 4,
   "metadata": {},
   "outputs": [],
   "source": [
    "def get_dataframe_datafile(filename=\"\"):\n",
    "    \"\"\"Возвращает датафрейм с данными из текстового файла TEC.\n",
    "    Заголовки задаются в константе.\"\"\"\n",
    "    return pd.read_csv(\n",
    "        filepath_or_buffer=filename,\n",
    "        delim_whitespace=True,  # разделитель - пробел(ы)\n",
    "        comment=\"#\",  # пропускаем комменты\n",
    "        names=DATA_HEADERS, # задание заголовков из списка\n",
    "    )"
   ]
  },
  {
   "cell_type": "code",
   "execution_count": 18,
   "metadata": {
    "scrolled": false
   },
   "outputs": [
    {
     "data": {
      "application/vnd.jupyter.widget-view+json": {
       "model_id": "76c4047f6b1f44b8b3b2fdca2aa8c1fa",
       "version_major": 2,
       "version_minor": 0
      },
      "text/plain": [
       "FileChooser(path='.', filename='', title='HTML(value='', layout=Layout(display='none'))', show_hidden='False',…"
      ]
     },
     "metadata": {},
     "output_type": "display_data"
    }
   ],
   "source": [
    "# Create and display a FileChooser widget\n",
    "fc = FileChooser('.')\n",
    "display(fc)\n",
    "\n",
    "# Change defaults and reset the dialog\n",
    "fc.default_path = '.'\n",
    "fc.reset()\n",
    "\n",
    "# Change hidden files\n",
    "fc.show_hidden = False\n",
    "\n",
    "# Show or hide folder icons\n",
    "fc.use_dir_icons = True\n",
    "\n",
    "# Set multiple file filter patterns (uses https://docs.python.org/3/library/fnmatch.html)\n",
    "fc.filter_pattern = ['*.dat', '*.txt']\n",
    "\n",
    "# Change the title (use '' to hide)\n",
    "fc.title = '<b>Выберите файл с данными</b>'\n",
    "\n",
    "# Sample callback function\n",
    "# def change_title(chooser):\n",
    "#     chooser.title = '<b>Callback function executed</b>'\n",
    "\n",
    "# Register callback function\n",
    "# fc.register_callback(change_title)"
   ]
  },
  {
   "cell_type": "code",
   "execution_count": 20,
   "metadata": {},
   "outputs": [
    {
     "name": "stdout",
     "output_type": "stream",
     "text": [
      "/home/alex/Yandex.Disk/Аспирантура/my research/TEST_TEC_DATA/165/G20/stk2G20_165.dat\n"
     ]
    }
   ],
   "source": [
    "# Print the selected path, filename, or both\n",
    "print(fc.selected)"
   ]
  },
  {
   "cell_type": "code",
   "execution_count": 21,
   "metadata": {},
   "outputs": [],
   "source": [
    "params = get_params_datafile(fc.selected)"
   ]
  },
  {
   "cell_type": "code",
   "execution_count": 22,
   "metadata": {},
   "outputs": [
    {
     "data": {
      "text/plain": [
       "{'hmax': '280',\n",
       " 'FiltWindow': '60 :    300 seconds',\n",
       " 'Time Range': '0.000 : 24.000',\n",
       " 'Minimum duration of series': '10 minutes',\n",
       " 'time step': '30'}"
      ]
     },
     "execution_count": 22,
     "metadata": {},
     "output_type": "execute_result"
    }
   ],
   "source": [
    "params"
   ]
  },
  {
   "cell_type": "code",
   "execution_count": 23,
   "metadata": {},
   "outputs": [],
   "source": [
    "dataframe = get_dataframe_datafile(fc.selected)"
   ]
  },
  {
   "cell_type": "code",
   "execution_count": 24,
   "metadata": {},
   "outputs": [
    {
     "name": "stdout",
     "output_type": "stream",
     "text": [
      "      tsn     time       el         az     latp      lonp       tec  \\\n",
      "0     764   6.3667  7.93273  322.99857  51.5037  131.7034  12.01332   \n",
      "1     765   6.3750  8.00573  322.82059  51.4508  131.7142  12.00824   \n",
      "2     766   6.3833  8.07787  322.64206  51.3985  131.7244  12.02581   \n",
      "3     767   6.3917  8.14913  322.46298  51.3467  131.7340  12.00263   \n",
      "4     768   6.4000  8.21952  322.28339  51.2955  131.7431  12.06604   \n",
      "..    ...      ...      ...        ...      ...       ...       ...   \n",
      "870  2342  19.5167  7.78179   64.26305  47.2919  155.9603   6.10383   \n",
      "871  2343  19.5250  7.60772   64.36535  47.3014  156.1141   6.11463   \n",
      "872  2344  19.5333  7.43388   64.46795  47.3105  156.2699   6.16158   \n",
      "873  2345  19.5417  7.26027   64.57084  47.3193  156.4275   6.11470   \n",
      "874  2346  19.5500  7.08687   64.67403  47.3278  156.5871   6.23488   \n",
      "\n",
      "     tec_filtered  validity  \n",
      "0         0.00000         3  \n",
      "1        -0.00239         0  \n",
      "2         0.00083         0  \n",
      "3        -0.01064         0  \n",
      "4         0.00264         0  \n",
      "..            ...       ...  \n",
      "870      -0.01057         0  \n",
      "871      -0.00828         0  \n",
      "872       0.00490         0  \n",
      "873      -0.01735         0  \n",
      "874       0.00000         0  \n",
      "\n",
      "[875 rows x 9 columns]\n"
     ]
    }
   ],
   "source": [
    "print(dataframe)\n"
   ]
  },
  {
   "cell_type": "code",
   "execution_count": 25,
   "metadata": {},
   "outputs": [
    {
     "name": "stdout",
     "output_type": "stream",
     "text": [
      "Using matplotlib backend: Qt5Agg\n"
     ]
    }
   ],
   "source": [
    "%matplotlib"
   ]
  },
  {
   "cell_type": "code",
   "execution_count": 26,
   "metadata": {},
   "outputs": [
    {
     "data": {
      "text/plain": [
       "<AxesSubplot:xlabel='time'>"
      ]
     },
     "execution_count": 26,
     "metadata": {},
     "output_type": "execute_result"
    }
   ],
   "source": [
    "dataframe.plot(x=\"time\", y=\"tec_filtered\")"
   ]
  },
  {
   "cell_type": "code",
   "execution_count": null,
   "metadata": {},
   "outputs": [],
   "source": []
  }
 ],
 "metadata": {
  "kernelspec": {
   "display_name": "Python 3",
   "language": "python",
   "name": "python3"
  },
  "language_info": {
   "codemirror_mode": {
    "name": "ipython",
    "version": 3
   },
   "file_extension": ".py",
   "mimetype": "text/x-python",
   "name": "python",
   "nbconvert_exporter": "python",
   "pygments_lexer": "ipython3",
   "version": "3.8.5"
  }
 },
 "nbformat": 4,
 "nbformat_minor": 4
}
