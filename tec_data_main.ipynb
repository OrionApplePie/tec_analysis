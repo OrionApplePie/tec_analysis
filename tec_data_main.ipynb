{
 "cells": [
  {
   "cell_type": "code",
   "execution_count": 1,
   "metadata": {},
   "outputs": [],
   "source": [
    "import errno\n",
    "import os\n",
    "from pathlib import Path\n",
    "from datetime import datetime, date, timedelta\n",
    "\n",
    "import pandas as pd\n",
    "from ipyfilechooser import FileChooser\n",
    "# import matplotlib.pyplot as plt"
   ]
  },
  {
   "cell_type": "markdown",
   "metadata": {},
   "source": [
    "Константы с параметрами и заголовками"
   ]
  },
  {
   "cell_type": "code",
   "execution_count": 2,
   "metadata": {},
   "outputs": [],
   "source": [
    "# Параметры из файлов с данными которые нужны\n",
    "NEEDED_PARAMETERS = (\n",
    "    \"hmax\",\n",
    "    \"FiltWindow\",\n",
    "    \"Time Range\",\n",
    "    \"Minimum duration of series\",\n",
    "    \"time step\"\n",
    ")\n",
    "# Заголовки колонок данных в текстовом файле\n",
    "DATA_HEADERS = (\n",
    "    \"tsn\", \"time\", \"el\", \"az\",\n",
    "    \"latp\", \"lonp\", \"tec\",\n",
    "    \"tec_filtered\", \"validity\"\n",
    ")"
   ]
  },
  {
   "cell_type": "code",
   "execution_count": 3,
   "metadata": {},
   "outputs": [],
   "source": [
    "def get_date_by_number(year=None, day_number=1):\n",
    "    \"\"\"Вычисление даты в заданном году по номеру дня.\"\"\"\n",
    "    if year is None or year < 1970 or day_number <= 0:\n",
    "        raise ValueError(\"Enter correct year/day number.\")\n",
    "    return date(year, 1, 1) + timedelta(days=day_number-1)"
   ]
  },
  {
   "cell_type": "code",
   "execution_count": 4,
   "metadata": {},
   "outputs": [],
   "source": [
    "def get_day_number(year=1970, month=1, day=1, dt_format=None):\n",
    "    \"\"\"Вычисление номера дня в году по дате.\"\"\"\n",
    "    if dt_format:\n",
    "        return dt_format.timetuple().tm_yday\n",
    "    return date(year, month, day).timetuple().tm_yday"
   ]
  },
  {
   "cell_type": "code",
   "execution_count": 5,
   "metadata": {},
   "outputs": [],
   "source": [
    "def parse_filename(filename=\"\"):\n",
    "    \"\"\"Парсинг имени файла на: stk2G20_165.dat\n",
    "       stk2 - имя пункта гнсс (4 символа),\n",
    "       G20 - тип и номер спутника (3 символа),\n",
    "       165 - номер дня в году\"\"\"\n",
    "    # TODO: добавить обработку ошибок\n",
    "    name, _ = os.path.basename(filename).split(\".\")\n",
    "    name_part, day_number = name.split(\"_\")\n",
    "    return {\n",
    "        \"day_number\": day_number,\n",
    "        \"receiver_name\": name_part[:4],  # TODO: уточнить англ. термин\n",
    "        \"sat_name\": name_part[4:7],\n",
    "    }"
   ]
  },
  {
   "cell_type": "code",
   "execution_count": 6,
   "metadata": {},
   "outputs": [],
   "source": [
    "def get_params_datafile(filename=\"\"):\n",
    "    \"\"\"Функция для сбора параметров из файла .dat\n",
    "    из строк в начале файла начинающихся с символа #.\n",
    "    Возвращает словарь.\n",
    "    \"\"\"\n",
    "    if not filename:\n",
    "        raise ValueError(\"Filename is needed.\")\n",
    "\n",
    "    if not os.path.isfile(filename):\n",
    "        raise FileNotFoundError(\n",
    "            errno.ENOENT,\n",
    "            os.strerror(errno.ENOENT),\n",
    "            filename\n",
    "        )\n",
    "\n",
    "    params = []\n",
    "\n",
    "    with open(filename, 'r') as tec_file:\n",
    "        for line in tec_file.readlines():\n",
    "            if line.strip().startswith(\"#\"):  # это параметр\n",
    "                param = line.strip()[1:]\n",
    "                param = param.split(\"=\")\n",
    "                if len(param) != 2:  # заголовки пропускаем\n",
    "                    continue\n",
    "                param = tuple(el.strip() for el in param)\n",
    "                params.append(param)\n",
    "    \n",
    "    params = dict(params)\n",
    "\n",
    "    # оставляем только нужные параметры\n",
    "    return {\n",
    "        key: params[key]\n",
    "        for key\n",
    "        in NEEDED_PARAMETERS\n",
    "    }"
   ]
  },
  {
   "cell_type": "code",
   "execution_count": 7,
   "metadata": {},
   "outputs": [],
   "source": [
    "def get_dataframe_datafile(filename=\"\"):\n",
    "    \"\"\"Возвращает датафрейм с данными из текстового файла TEC.\n",
    "    Заголовки задаются в константе.\"\"\"\n",
    "    return pd.read_csv(\n",
    "        filepath_or_buffer=filename,\n",
    "        delim_whitespace=True,  # разделитель - пробел(ы)\n",
    "        comment=\"#\",  # пропускаем комменты\n",
    "        names=DATA_HEADERS, # задание заголовков из списка\n",
    "    )"
   ]
  },
  {
   "cell_type": "code",
   "execution_count": 8,
   "metadata": {
    "scrolled": false
   },
   "outputs": [
    {
     "data": {
      "application/vnd.jupyter.widget-view+json": {
       "model_id": "17cbc426fd2348bdb028cc4bb7c1453f",
       "version_major": 2,
       "version_minor": 0
      },
      "text/plain": [
       "FileChooser(path='.', filename='', title='HTML(value='', layout=Layout(display='none'))', show_hidden='False',…"
      ]
     },
     "metadata": {},
     "output_type": "display_data"
    }
   ],
   "source": [
    "# Create and display a FileChooser widget\n",
    "fc = FileChooser('.')\n",
    "display(fc)\n",
    "\n",
    "# Change defaults and reset the dialog\n",
    "fc.default_path = '.'\n",
    "fc.reset()\n",
    "\n",
    "# Change hidden files\n",
    "fc.show_hidden = False\n",
    "\n",
    "# Show or hide folder icons\n",
    "fc.use_dir_icons = True\n",
    "\n",
    "# Set multiple file filter patterns (uses https://docs.python.org/3/library/fnmatch.html)\n",
    "fc.filter_pattern = ['*.dat', '*.txt']\n",
    "\n",
    "# Change the title (use '' to hide)\n",
    "fc.title = '<b>Выберите файл с данными</b>'\n",
    "\n",
    "# Sample callback function\n",
    "# def change_title(chooser):\n",
    "#     chooser.title = '<b>Callback function executed</b>'\n",
    "\n",
    "# Register callback function\n",
    "# fc.register_callback(change_title)"
   ]
  },
  {
   "cell_type": "code",
   "execution_count": 9,
   "metadata": {},
   "outputs": [
    {
     "name": "stdout",
     "output_type": "stream",
     "text": [
      "C:\\Users\\Alex\\YandexDisk\\Аспирантура\\my research\\TEST_TEC_DATA\\165\\G20\\stk2G20_165.dat\n"
     ]
    }
   ],
   "source": [
    "# Print the selected path, filename, or both\n",
    "print(fc.selected)"
   ]
  },
  {
   "cell_type": "code",
   "execution_count": 46,
   "metadata": {},
   "outputs": [],
   "source": [
    "file_info = parse_filename(fc.selected)\n",
    "anchored_text_label = f\"{file_info['day_number']} {file_info['receiver_name']} {file_info['sat_name']}\""
   ]
  },
  {
   "cell_type": "code",
   "execution_count": 47,
   "metadata": {},
   "outputs": [],
   "source": [
    "params = get_params_datafile(fc.selected)"
   ]
  },
  {
   "cell_type": "code",
   "execution_count": 12,
   "metadata": {},
   "outputs": [
    {
     "data": {
      "text/plain": [
       "{'hmax': '280',\n",
       " 'FiltWindow': '60 :    300 seconds',\n",
       " 'Time Range': '0.000 : 24.000',\n",
       " 'Minimum duration of series': '10 minutes',\n",
       " 'time step': '30'}"
      ]
     },
     "execution_count": 12,
     "metadata": {},
     "output_type": "execute_result"
    }
   ],
   "source": [
    "params"
   ]
  },
  {
   "cell_type": "code",
   "execution_count": 13,
   "metadata": {},
   "outputs": [],
   "source": [
    "dataframe = get_dataframe_datafile(fc.selected)"
   ]
  },
  {
   "cell_type": "code",
   "execution_count": 14,
   "metadata": {},
   "outputs": [
    {
     "name": "stdout",
     "output_type": "stream",
     "text": [
      "      tsn     time       el         az     latp      lonp       tec  \\\n",
      "0     764   6.3667  7.93273  322.99857  51.5037  131.7034  12.01332   \n",
      "1     765   6.3750  8.00573  322.82059  51.4508  131.7142  12.00824   \n",
      "2     766   6.3833  8.07787  322.64206  51.3985  131.7244  12.02581   \n",
      "3     767   6.3917  8.14913  322.46298  51.3467  131.7340  12.00263   \n",
      "4     768   6.4000  8.21952  322.28339  51.2955  131.7431  12.06604   \n",
      "..    ...      ...      ...        ...      ...       ...       ...   \n",
      "870  2342  19.5167  7.78179   64.26305  47.2919  155.9603   6.10383   \n",
      "871  2343  19.5250  7.60772   64.36535  47.3014  156.1141   6.11463   \n",
      "872  2344  19.5333  7.43388   64.46795  47.3105  156.2699   6.16158   \n",
      "873  2345  19.5417  7.26027   64.57084  47.3193  156.4275   6.11470   \n",
      "874  2346  19.5500  7.08687   64.67403  47.3278  156.5871   6.23488   \n",
      "\n",
      "     tec_filtered  validity  \n",
      "0         0.00000         3  \n",
      "1        -0.00239         0  \n",
      "2         0.00083         0  \n",
      "3        -0.01064         0  \n",
      "4         0.00264         0  \n",
      "..            ...       ...  \n",
      "870      -0.01057         0  \n",
      "871      -0.00828         0  \n",
      "872       0.00490         0  \n",
      "873      -0.01735         0  \n",
      "874       0.00000         0  \n",
      "\n",
      "[875 rows x 9 columns]\n"
     ]
    }
   ],
   "source": [
    "print(dataframe)\n"
   ]
  },
  {
   "cell_type": "code",
   "execution_count": 48,
   "metadata": {},
   "outputs": [],
   "source": [
    "#%matplotlib inline"
   ]
  },
  {
   "cell_type": "code",
   "execution_count": 49,
   "metadata": {},
   "outputs": [],
   "source": [
    "import matplotlib.pyplot as plt"
   ]
  },
  {
   "cell_type": "code",
   "execution_count": 50,
   "metadata": {},
   "outputs": [],
   "source": [
    "from matplotlib.offsetbox import AnchoredText"
   ]
  },
  {
   "cell_type": "code",
   "execution_count": 51,
   "metadata": {},
   "outputs": [
    {
     "data": {
      "image/png": "[encoded data removed]",
      "text/plain": [
       "<Figure size 432x288 with 1 Axes>"
      ]
     },
     "metadata": {
      "needs_background": "light"
     },
     "output_type": "display_data"
    }
   ],
   "source": [
    "fig, axs = plt.subplots()"
   ]
  },
  {
   "cell_type": "code",
   "execution_count": 52,
   "metadata": {},
   "outputs": [
    {
     "data": {
      "text/plain": [
       "<AxesSubplot:xlabel='time'>"
      ]
     },
     "execution_count": 52,
     "metadata": {},
     "output_type": "execute_result"
    }
   ],
   "source": [
    "dataframe.plot(x=\"time\", y=\"tec_filtered\", ax=axs)"
   ]
  },
  {
   "cell_type": "code",
   "execution_count": 53,
   "metadata": {},
   "outputs": [],
   "source": [
    "at = AnchoredText(anchored_text_label, loc='upper right', prop=dict(size=12), frameon=True,)"
   ]
  },
  {
   "cell_type": "code",
   "execution_count": 54,
   "metadata": {
    "scrolled": true
   },
   "outputs": [
    {
     "data": {
      "text/plain": [
       "<matplotlib.offsetbox.AnchoredText at 0x1ac05144c10>"
      ]
     },
     "execution_count": 54,
     "metadata": {},
     "output_type": "execute_result"
    }
   ],
   "source": [
    "axs.add_artist(at)"
   ]
  },
  {
   "cell_type": "code",
   "execution_count": 55,
   "metadata": {},
   "outputs": [],
   "source": [
    "fig.savefig(\"fig.png\")"
   ]
  },
  {
   "cell_type": "code",
   "execution_count": 56,
   "metadata": {},
   "outputs": [],
   "source": [
    "day = get_date_by_number(year=2009, day_number=164)"
   ]
  },
  {
   "cell_type": "code",
   "execution_count": 57,
   "metadata": {},
   "outputs": [
    {
     "data": {
      "text/plain": [
       "datetime.date(2009, 6, 13)"
      ]
     },
     "execution_count": 57,
     "metadata": {},
     "output_type": "execute_result"
    }
   ],
   "source": [
    "day"
   ]
  },
  {
   "cell_type": "code",
   "execution_count": 58,
   "metadata": {},
   "outputs": [],
   "source": [
    "dnum = get_day_number(year=2009, month=6, day=14)"
   ]
  },
  {
   "cell_type": "code",
   "execution_count": 59,
   "metadata": {},
   "outputs": [
    {
     "data": {
      "text/plain": [
       "165"
      ]
     },
     "execution_count": 59,
     "metadata": {},
     "output_type": "execute_result"
    }
   ],
   "source": [
    "dnum"
   ]
  },
  {
   "cell_type": "code",
   "execution_count": null,
   "metadata": {},
   "outputs": [],
   "source": []
  }
 ],
 "metadata": {
  "kernelspec": {
   "display_name": "Python 3",
   "language": "python",
   "name": "python3"
  },
  "language_info": {
   "codemirror_mode": {
    "name": "ipython",
    "version": 3
   },
   "file_extension": ".py",
   "mimetype": "text/x-python",
   "name": "python",
   "nbconvert_exporter": "python",
   "pygments_lexer": "ipython3",
   "version": "3.8.5"
  }
 },
 "nbformat": 4,
 "nbformat_minor": 4
}
