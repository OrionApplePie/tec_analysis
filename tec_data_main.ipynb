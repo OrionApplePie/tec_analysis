{
 "cells": [
  {
   "cell_type": "code",
   "execution_count": 1,
   "metadata": {},
   "outputs": [],
   "source": [
    "import errno\n",
    "import os\n",
    "from pathlib import Path\n",
    "from datetime import datetime, date, timedelta\n",
    "\n",
    "import pandas as pd\n",
    "from ipyfilechooser import FileChooser\n",
    "# import matplotlib.pyplot as plt"
   ]
  },
  {
   "cell_type": "markdown",
   "metadata": {},
   "source": [
    "Константы с параметрами и заголовками"
   ]
  },
  {
   "cell_type": "code",
   "execution_count": 2,
   "metadata": {},
   "outputs": [],
   "source": [
    "# Параметры из файлов с данными которые нужны\n",
    "NEEDED_PARAMETERS = (\n",
    "    \"hmax\",\n",
    "    \"FiltWindow\",\n",
    "    \"Time Range\",\n",
    "    \"Minimum duration of series\",\n",
    "    \"time step\"\n",
    ")\n",
    "# Заголовки колонок данных в текстовом файле\n",
    "DATA_HEADERS = (\n",
    "    \"tsn\", \"time\", \"el\", \"az\",\n",
    "    \"latp\", \"lonp\", \"tec\",\n",
    "    \"tec_filtered\", \"validity\"\n",
    ")\n",
    "# TODO: сделать проще - задание форматом HH:MM\n",
    "# Временной интервал для отрисовки графика\n",
    "FLOAT_TIME_START = 18.50  # это значит время 18:30\n",
    "FLOAT_TIME_END = 21.00\n",
    "# В формат Pandas\n",
    "TIME_START = pd.to_datetime(18.50, unit='h')\n",
    "TIME_END = pd.to_datetime(21.00, unit='h')"
   ]
  },
  {
   "cell_type": "code",
   "execution_count": 3,
   "metadata": {},
   "outputs": [],
   "source": [
    "def get_date_by_number(year=None, day_number=1):\n",
    "    \"\"\"Вычисление даты в заданном году по номеру дня.\"\"\"\n",
    "    if year is None or year < 1970 or day_number <= 0:\n",
    "        raise ValueError(\"Enter correct year/day number.\")\n",
    "    return date(year, 1, 1) + timedelta(days=day_number-1)"
   ]
  },
  {
   "cell_type": "code",
   "execution_count": 4,
   "metadata": {},
   "outputs": [],
   "source": [
    "def get_day_number(year=1970, month=1, day=1, dt_format=None):\n",
    "    \"\"\"Вычисление номера дня в году по дате.\"\"\"\n",
    "    if dt_format:\n",
    "        return dt_format.timetuple().tm_yday\n",
    "    return date(year, month, day).timetuple().tm_yday"
   ]
  },
  {
   "cell_type": "code",
   "execution_count": 5,
   "metadata": {},
   "outputs": [],
   "source": [
    "def parse_filename(filename=\"\"):\n",
    "    \"\"\"Парсинг имени файла на: stk2G20_165.dat\n",
    "       stk2 - имя пункта гнсс (4 символа),\n",
    "       G20 - тип и номер спутника (3 символа),\n",
    "       165 - номер дня в году\"\"\"\n",
    "    # TODO: добавить обработку ошибок\n",
    "    name, _ = os.path.basename(filename).split(\".\")\n",
    "    name_part, day_number = name.split(\"_\")\n",
    "    return {\n",
    "        \"day_number\": day_number,\n",
    "        \"receiver_name\": name_part[:4],  # TODO: уточнить англ. термин\n",
    "        \"sat_name\": name_part[4:7],\n",
    "    }"
   ]
  },
  {
   "cell_type": "code",
   "execution_count": 6,
   "metadata": {},
   "outputs": [],
   "source": [
    "def get_params_datafile(filename=\"\"):\n",
    "    \"\"\"Функция для сбора параметров из файла .dat\n",
    "    из строк в начале файла начинающихся с символа #.\n",
    "    Возвращает словарь.\n",
    "    \"\"\"\n",
    "    if not filename:\n",
    "        raise ValueError(\"Filename is needed.\")\n",
    "\n",
    "    if not os.path.isfile(filename):\n",
    "        raise FileNotFoundError(\n",
    "            errno.ENOENT,\n",
    "            os.strerror(errno.ENOENT),\n",
    "            filename\n",
    "        )\n",
    "\n",
    "    params = []\n",
    "\n",
    "    with open(filename, 'r') as tec_file:\n",
    "        for line in tec_file.readlines():\n",
    "            if line.strip().startswith(\"#\"):  # это параметр\n",
    "                param = line.strip()[1:]\n",
    "                param = param.split(\"=\")\n",
    "                if len(param) != 2:  # заголовки пропускаем\n",
    "                    continue\n",
    "                param = tuple(el.strip() for el in param)\n",
    "                params.append(param)\n",
    "    \n",
    "    params = dict(params)\n",
    "\n",
    "    # оставляем только нужные параметры\n",
    "    return {\n",
    "        key: params[key]\n",
    "        for key\n",
    "        in NEEDED_PARAMETERS\n",
    "    }"
   ]
  },
  {
   "cell_type": "code",
   "execution_count": 7,
   "metadata": {},
   "outputs": [],
   "source": [
    "def get_dataframe_datafile(filename=\"\"):\n",
    "    \"\"\"Возвращает датафрейм с данными из текстового файла TEC.\n",
    "    Заголовки задаются в константе.\"\"\"\n",
    "    return pd.read_csv(\n",
    "        filepath_or_buffer=filename,\n",
    "        delim_whitespace=True,  # разделитель - пробел(ы)\n",
    "        comment=\"#\",  # пропускаем комменты\n",
    "        names=DATA_HEADERS, # задание заголовков из списка\n",
    "    )"
   ]
  },
  {
   "cell_type": "code",
   "execution_count": 8,
   "metadata": {
    "scrolled": false
   },
   "outputs": [
    {
     "data": {
      "application/vnd.jupyter.widget-view+json": {
       "model_id": "453163fa04b6459eb613a00ebb12e063",
       "version_major": 2,
       "version_minor": 0
      },
      "text/plain": [
       "FileChooser(path='.', filename='', title='HTML(value='', layout=Layout(display='none'))', show_hidden='False',…"
      ]
     },
     "metadata": {},
     "output_type": "display_data"
    }
   ],
   "source": [
    "# Create and display a FileChooser widget\n",
    "fc = FileChooser('.')\n",
    "display(fc)\n",
    "\n",
    "# Change defaults and reset the dialog\n",
    "fc.default_path = '.'\n",
    "fc.reset()\n",
    "\n",
    "# Change hidden files\n",
    "fc.show_hidden = False\n",
    "\n",
    "# Show or hide folder icons\n",
    "fc.use_dir_icons = True\n",
    "\n",
    "# Set multiple file filter patterns (uses https://docs.python.org/3/library/fnmatch.html)\n",
    "fc.filter_pattern = ['*.dat', '*.txt']\n",
    "\n",
    "# Change the title (use '' to hide)\n",
    "fc.title = '<b>Выберите файл с данными</b>'\n",
    "\n",
    "# Sample callback function\n",
    "# def change_title(chooser):\n",
    "#     chooser.title = '<b>Callback function executed</b>'\n",
    "\n",
    "# Register callback function\n",
    "# fc.register_callback(change_title)"
   ]
  },
  {
   "cell_type": "code",
   "execution_count": 52,
   "metadata": {},
   "outputs": [
    {
     "name": "stdout",
     "output_type": "stream",
     "text": [
      "C:\\Users\\Alex\\YandexDisk\\Аспирантура\\my research\\TEST_TEC_DATA\\165\\G20\\0010G20_165.dat\n"
     ]
    }
   ],
   "source": [
    "# Print the selected path, filename, or both\n",
    "print(fc.selected)"
   ]
  },
  {
   "cell_type": "code",
   "execution_count": 53,
   "metadata": {},
   "outputs": [],
   "source": [
    "file_info = parse_filename(fc.selected)\n",
    "anchored_text_label = f\"{file_info['day_number']} {file_info['receiver_name']} {file_info['sat_name']}\""
   ]
  },
  {
   "cell_type": "code",
   "execution_count": 54,
   "metadata": {},
   "outputs": [],
   "source": [
    "params = get_params_datafile(fc.selected)"
   ]
  },
  {
   "cell_type": "code",
   "execution_count": 55,
   "metadata": {},
   "outputs": [
    {
     "data": {
      "text/plain": [
       "{'hmax': '280',\n",
       " 'FiltWindow': '60 :    300 seconds',\n",
       " 'Time Range': '0.000 : 24.000',\n",
       " 'Minimum duration of series': '10 minutes',\n",
       " 'time step': '30'}"
      ]
     },
     "execution_count": 55,
     "metadata": {},
     "output_type": "execute_result"
    }
   ],
   "source": [
    "params"
   ]
  },
  {
   "cell_type": "code",
   "execution_count": 56,
   "metadata": {},
   "outputs": [],
   "source": [
    "dataframe = get_dataframe_datafile(fc.selected)"
   ]
  },
  {
   "cell_type": "markdown",
   "metadata": {},
   "source": [
    "Конвертация времени из формата float"
   ]
  },
  {
   "cell_type": "code",
   "execution_count": 57,
   "metadata": {},
   "outputs": [],
   "source": [
    "dataframe[\"time\"] = pd.to_datetime(dataframe[\"time\"], unit='h')"
   ]
  },
  {
   "cell_type": "code",
   "execution_count": 58,
   "metadata": {},
   "outputs": [],
   "source": [
    "dataframe = dataframe[(dataframe[\"time\"] >= TIME_START) & (dataframe[\"time\"] <= TIME_END)]  # отбор интервала времени"
   ]
  },
  {
   "cell_type": "code",
   "execution_count": 59,
   "metadata": {},
   "outputs": [
    {
     "name": "stdout",
     "output_type": "stream",
     "text": [
      "      tsn                    time        el        az     latp      lonp  \\\n",
      "737  2220 1970-01-01 18:30:00.000  32.21205  55.09049  44.9741  148.6604   \n",
      "738  2221 1970-01-01 18:30:29.880  32.00904  55.14584  44.9849  148.6944   \n",
      "739  2222 1970-01-01 18:31:00.120  31.80629  55.20186  44.9958  148.7288   \n",
      "740  2223 1970-01-01 18:31:30.000  31.60378  55.25854  45.0067  148.7635   \n",
      "741  2224 1970-01-01 18:31:59.880  31.40151  55.31589  45.0176  148.7986   \n",
      "..    ...                     ...       ...       ...      ...       ...   \n",
      "880  2363 1970-01-01 19:41:30.120   5.72355  67.81885  46.3713  160.4822   \n",
      "881  2364 1970-01-01 19:42:00.000   5.55546  67.93201  46.3699  160.6533   \n",
      "882  2365 1970-01-01 19:42:29.880   5.38758  68.04539  46.3679  160.8262   \n",
      "883  2366 1970-01-01 19:43:00.120   5.21992  68.15902  46.3654  161.0011   \n",
      "884  2367 1970-01-01 19:43:30.000   5.05247  68.27287  46.3623  161.1777   \n",
      "\n",
      "         tec  tec_filtered  validity  \n",
      "737  1.91320       0.02133         0  \n",
      "738  1.90036       0.00128         0  \n",
      "739  1.90439      -0.00754         0  \n",
      "740  1.93146      -0.00339         0  \n",
      "741  1.93347      -0.01435         0  \n",
      "..       ...           ...       ...  \n",
      "880  6.31323       0.00728         0  \n",
      "881  6.33095       0.00788         0  \n",
      "882  6.33694       0.00306         0  \n",
      "883  6.32712      -0.00083         0  \n",
      "884  6.32555       0.00000         0  \n",
      "\n",
      "[148 rows x 9 columns]\n"
     ]
    }
   ],
   "source": [
    "print(dataframe)"
   ]
  },
  {
   "cell_type": "code",
   "execution_count": 60,
   "metadata": {},
   "outputs": [],
   "source": [
    "%matplotlib inline"
   ]
  },
  {
   "cell_type": "code",
   "execution_count": 61,
   "metadata": {},
   "outputs": [],
   "source": [
    "import matplotlib.pyplot as plt\n",
    "import matplotlib.ticker as ticker\n",
    "import matplotlib.dates as md"
   ]
  },
  {
   "cell_type": "code",
   "execution_count": 62,
   "metadata": {},
   "outputs": [],
   "source": [
    "from matplotlib.offsetbox import AnchoredText"
   ]
  },
  {
   "cell_type": "code",
   "execution_count": 63,
   "metadata": {},
   "outputs": [
    {
     "data": {
      "text/plain": [
       "(-0.1, 0.1)"
      ]
     },
     "execution_count": 63,
     "metadata": {},
     "output_type": "execute_result"
    },
    {
     "data": {
      "image/png": "[encoded data removed]",
      "text/plain": [
       "<Figure size 2400x840 with 1 Axes>"
      ]
     },
     "metadata": {
      "needs_background": "light"
     },
     "output_type": "display_data"
    }
   ],
   "source": [
    "fig = plt.figure(figsize=(8, 2.8), dpi=300)\n",
    "\n",
    "axs = fig.add_axes([0.1, 0.3, 0.85, 0.65])  #  left, bottom, width, height\n",
    "\n",
    "axs.set_xlim(TIME_START, TIME_END)\n",
    "axs.set_ylim(-0.1, 0.1)"
   ]
  },
  {
   "cell_type": "code",
   "execution_count": 64,
   "metadata": {},
   "outputs": [
    {
     "data": {
      "text/plain": [
       "<matplotlib.axes._axes.Axes at 0x1f1b95d1100>"
      ]
     },
     "execution_count": 64,
     "metadata": {},
     "output_type": "execute_result"
    }
   ],
   "source": [
    "dataframe.plot(x=\"time\", y=\"tec_filtered\", legend=False, ax=axs, color='r', linewidth=2)"
   ]
  },
  {
   "cell_type": "code",
   "execution_count": 65,
   "metadata": {},
   "outputs": [],
   "source": [
    "at = AnchoredText(anchored_text_label, loc='upper right', prop=dict(size=12), frameon=False,)"
   ]
  },
  {
   "cell_type": "code",
   "execution_count": 66,
   "metadata": {
    "scrolled": true
   },
   "outputs": [
    {
     "data": {
      "text/plain": [
       "<matplotlib.offsetbox.AnchoredText at 0x1f1b93ad340>"
      ]
     },
     "execution_count": 66,
     "metadata": {},
     "output_type": "execute_result"
    }
   ],
   "source": [
    "axs.add_artist(at)"
   ]
  },
  {
   "cell_type": "code",
   "execution_count": 67,
   "metadata": {},
   "outputs": [
    {
     "data": {
      "text/plain": [
       "<Figure size 432x288 with 0 Axes>"
      ]
     },
     "metadata": {},
     "output_type": "display_data"
    }
   ],
   "source": [
    "# TODO: не работает показ, только сохранение, исправить\n",
    "# plt.show()\n",
    "\n",
    "#  Устанавливаем интервал основных и\n",
    "#  вспомогательных делений:\n",
    "axs.xaxis.set_major_locator(md.MinuteLocator(byminute=[0,30,60], interval=1))\n",
    "axs.xaxis.set_minor_locator(md.MinuteLocator(byminute=[0,3,6,7,10], interval=1))\n",
    "\n",
    "axs.yaxis.set_major_locator(ticker.MultipleLocator(.05))\n",
    "axs.yaxis.set_minor_locator(ticker.IndexLocator(base=0.5, offset=0.25))\n",
    "\n",
    "axs.xaxis.set_major_formatter(md.DateFormatter('%H:%M'))\n",
    "\n",
    "#  Добавляем линии основной сетки:\n",
    "axs.grid(which='major', color='k', linestyle='-', linewidth=0.5)\n",
    "\n",
    "#  Включаем видимость вспомогательных делений:\n",
    "axs.minorticks_on()\n",
    "plt.tight_layout()\n",
    "fig.autofmt_xdate()\n",
    "\n",
    "fig.savefig(\"fig1.png\")"
   ]
  },
  {
   "cell_type": "code",
   "execution_count": 68,
   "metadata": {},
   "outputs": [],
   "source": [
    "day = get_date_by_number(year=2009, day_number=164)\n",
    "dnum = get_day_number(year=2009, month=6, day=14)"
   ]
  },
  {
   "cell_type": "code",
   "execution_count": null,
   "metadata": {},
   "outputs": [],
   "source": []
  },
  {
   "cell_type": "code",
   "execution_count": null,
   "metadata": {},
   "outputs": [],
   "source": []
  },
  {
   "cell_type": "code",
   "execution_count": null,
   "metadata": {},
   "outputs": [],
   "source": []
  }
 ],
 "metadata": {
  "kernelspec": {
   "display_name": "Python 3",
   "language": "python",
   "name": "python3"
  },
  "language_info": {
   "codemirror_mode": {
    "name": "ipython",
    "version": 3
   },
   "file_extension": ".py",
   "mimetype": "text/x-python",
   "name": "python",
   "nbconvert_exporter": "python",
   "pygments_lexer": "ipython3",
   "version": "3.8.5"
  }
 },
 "nbformat": 4,
 "nbformat_minor": 4
}
